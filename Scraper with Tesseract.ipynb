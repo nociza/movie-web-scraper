{
 "cells": [
  {
   "cell_type": "code",
   "execution_count": 17,
   "metadata": {},
   "outputs": [],
   "source": [
    "import os\n",
    "import re\n",
    "import requests\n",
    "from bs4 import BeautifulSoup as bs\n",
    "from selenium import webdriver\n",
    "from selenium.webdriver.chrome.options import Options\n",
    "from selenium.webdriver.common.desired_capabilities import DesiredCapabilities\n",
    "from selenium.webdriver.support.ui import WebDriverWait\n",
    "from selenium.webdriver.support import expected_conditions as EC\n",
    "from selenium.webdriver.common.by import By\n",
    "from selenium.webdriver.common.keys import Keys\n",
    "from selenium.webdriver.common.proxy import Proxy, ProxyType\n",
    "import simplejson as json\n",
    "from datetime import datetime"
   ]
  },
  {
   "cell_type": "markdown",
   "metadata": {},
   "source": [
    "# Stage 1: Maoyan"
   ]
  },
  {
   "cell_type": "markdown",
   "metadata": {},
   "source": [
    "## Create IP Pool to mask IP address"
   ]
  },
  {
   "cell_type": "code",
   "execution_count": 18,
   "metadata": {},
   "outputs": [],
   "source": []
  },
  {
   "cell_type": "code",
   "execution_count": 19,
   "metadata": {},
   "outputs": [
    {
     "data": {
      "text/plain": [
       "'192.184.132.173'"
      ]
     },
     "execution_count": 19,
     "metadata": {},
     "output_type": "execute_result"
    }
   ],
   "source": [
    "res.text"
   ]
  },
  {
   "cell_type": "markdown",
   "metadata": {},
   "source": [
    "## Get website response and font data"
   ]
  },
  {
   "cell_type": "code",
   "execution_count": 20,
   "metadata": {},
   "outputs": [
    {
     "name": "stderr",
     "output_type": "stream",
     "text": [
      "/Users/azicon/anaconda3/lib/python3.7/site-packages/ipykernel_launcher.py:12: DeprecationWarning: use options instead of chrome_options\n",
      "  if sys.path[0] == '':\n"
     ]
    },
    {
     "name": "stdout",
     "output_type": "stream",
     "text": [
      "Caught https://monitor.maoyan.com/api/speed\n"
     ]
    },
    {
     "ename": "WebDriverException",
     "evalue": "Message: unknown error: unhandled inspector error: {\"code\":-32000,\"message\":\"No resource with given identifier found\"}\n  (Session info: chrome=97.0.4692.99)\nStacktrace:\n0   chromedriver                        0x00000001075b0e69 chromedriver + 5160553\n1   chromedriver                        0x000000010753b593 chromedriver + 4679059\n2   chromedriver                        0x00000001070ef2c8 chromedriver + 172744\n3   chromedriver                        0x00000001070dac01 chromedriver + 89089\n4   chromedriver                        0x00000001070d98ba chromedriver + 84154\n5   chromedriver                        0x00000001070d9adc chromedriver + 84700\n6   chromedriver                        0x00000001070d9a75 chromedriver + 84597\n7   chromedriver                        0x00000001070f102f chromedriver + 180271\n8   chromedriver                        0x0000000107160ae5 chromedriver + 637669\n9   chromedriver                        0x0000000107142312 chromedriver + 512786\n10  chromedriver                        0x00000001071550ab chromedriver + 589995\n11  chromedriver                        0x0000000107142623 chromedriver + 513571\n12  chromedriver                        0x0000000107117dce chromedriver + 339406\n13  chromedriver                        0x0000000107119105 chromedriver + 344325\n14  chromedriver                        0x000000010756c23e chromedriver + 4878910\n15  chromedriver                        0x0000000107583d17 chromedriver + 4975895\n16  chromedriver                        0x0000000107589a3f chromedriver + 4999743\n17  chromedriver                        0x000000010758461a chromedriver + 4978202\n18  chromedriver                        0x0000000107560bb1 chromedriver + 4832177\n19  chromedriver                        0x00000001075a0fd8 chromedriver + 5095384\n20  chromedriver                        0x00000001075a1161 chromedriver + 5095777\n21  chromedriver                        0x00000001075b82a8 chromedriver + 5190312\n22  libsystem_pthread.dylib             0x00007ff81c3ed4f4 _pthread_start + 125\n23  libsystem_pthread.dylib             0x00007ff81c3e900f thread_start + 15\n",
     "output_type": "error",
     "traceback": [
      "\u001b[0;31m---------------------------------------------------------------------------\u001b[0m",
      "\u001b[0;31mWebDriverException\u001b[0m                        Traceback (most recent call last)",
      "\u001b[0;32m<ipython-input-20-7d6def28765e>\u001b[0m in \u001b[0;36m<module>\u001b[0;34m\u001b[0m\n\u001b[1;32m     44\u001b[0m     \u001b[0mresp_url\u001b[0m \u001b[0;34m=\u001b[0m \u001b[0mlog\u001b[0m\u001b[0;34m[\u001b[0m\u001b[0;34m\"params\"\u001b[0m\u001b[0;34m]\u001b[0m\u001b[0;34m[\u001b[0m\u001b[0;34m\"response\"\u001b[0m\u001b[0;34m]\u001b[0m\u001b[0;34m[\u001b[0m\u001b[0;34m\"url\"\u001b[0m\u001b[0;34m]\u001b[0m\u001b[0;34m\u001b[0m\u001b[0;34m\u001b[0m\u001b[0m\n\u001b[1;32m     45\u001b[0m     \u001b[0mprint\u001b[0m\u001b[0;34m(\u001b[0m\u001b[0;34mf\"Caught {resp_url}\"\u001b[0m\u001b[0;34m)\u001b[0m\u001b[0;34m\u001b[0m\u001b[0;34m\u001b[0m\u001b[0m\n\u001b[0;32m---> 46\u001b[0;31m     \u001b[0mresponse\u001b[0m \u001b[0;34m=\u001b[0m \u001b[0mdriver\u001b[0m\u001b[0;34m.\u001b[0m\u001b[0mexecute_cdp_cmd\u001b[0m\u001b[0;34m(\u001b[0m\u001b[0;34m\"Network.getResponseBody\"\u001b[0m\u001b[0;34m,\u001b[0m \u001b[0;34m{\u001b[0m\u001b[0;34m\"requestId\"\u001b[0m\u001b[0;34m:\u001b[0m \u001b[0mrequest_id\u001b[0m\u001b[0;34m}\u001b[0m\u001b[0;34m)\u001b[0m\u001b[0;34m\u001b[0m\u001b[0;34m\u001b[0m\u001b[0m\n\u001b[0m\u001b[1;32m     47\u001b[0m     \u001b[0mresponses\u001b[0m\u001b[0;34m.\u001b[0m\u001b[0mappend\u001b[0m\u001b[0;34m(\u001b[0m\u001b[0mresponse\u001b[0m\u001b[0;34m)\u001b[0m\u001b[0;34m\u001b[0m\u001b[0;34m\u001b[0m\u001b[0m\n",
      "\u001b[0;32m~/anaconda3/lib/python3.7/site-packages/selenium/webdriver/chromium/webdriver.py\u001b[0m in \u001b[0;36mexecute_cdp_cmd\u001b[0;34m(self, cmd, cmd_args)\u001b[0m\n\u001b[1;32m    177\u001b[0m             \u001b[0;34m{\u001b[0m\u001b[0;34m'base64Encoded'\u001b[0m\u001b[0;34m:\u001b[0m \u001b[0;32mFalse\u001b[0m\u001b[0;34m,\u001b[0m \u001b[0;34m'body'\u001b[0m\u001b[0;34m:\u001b[0m \u001b[0;34m'response body string'\u001b[0m\u001b[0;34m}\u001b[0m\u001b[0;34m\u001b[0m\u001b[0;34m\u001b[0m\u001b[0m\n\u001b[1;32m    178\u001b[0m         \"\"\"\n\u001b[0;32m--> 179\u001b[0;31m         \u001b[0;32mreturn\u001b[0m \u001b[0mself\u001b[0m\u001b[0;34m.\u001b[0m\u001b[0mexecute\u001b[0m\u001b[0;34m(\u001b[0m\u001b[0;34m\"executeCdpCommand\"\u001b[0m\u001b[0;34m,\u001b[0m \u001b[0;34m{\u001b[0m\u001b[0;34m'cmd'\u001b[0m\u001b[0;34m:\u001b[0m \u001b[0mcmd\u001b[0m\u001b[0;34m,\u001b[0m \u001b[0;34m'params'\u001b[0m\u001b[0;34m:\u001b[0m \u001b[0mcmd_args\u001b[0m\u001b[0;34m}\u001b[0m\u001b[0;34m)\u001b[0m\u001b[0;34m[\u001b[0m\u001b[0;34m'value'\u001b[0m\u001b[0;34m]\u001b[0m\u001b[0;34m\u001b[0m\u001b[0;34m\u001b[0m\u001b[0m\n\u001b[0m\u001b[1;32m    180\u001b[0m \u001b[0;34m\u001b[0m\u001b[0m\n\u001b[1;32m    181\u001b[0m     \u001b[0;32mdef\u001b[0m \u001b[0mget_sinks\u001b[0m\u001b[0;34m(\u001b[0m\u001b[0mself\u001b[0m\u001b[0;34m)\u001b[0m \u001b[0;34m->\u001b[0m \u001b[0mlist\u001b[0m\u001b[0;34m:\u001b[0m\u001b[0;34m\u001b[0m\u001b[0;34m\u001b[0m\u001b[0m\n",
      "\u001b[0;32m~/anaconda3/lib/python3.7/site-packages/selenium/webdriver/remote/webdriver.py\u001b[0m in \u001b[0;36mexecute\u001b[0;34m(self, driver_command, params)\u001b[0m\n\u001b[1;32m    422\u001b[0m         \u001b[0mresponse\u001b[0m \u001b[0;34m=\u001b[0m \u001b[0mself\u001b[0m\u001b[0;34m.\u001b[0m\u001b[0mcommand_executor\u001b[0m\u001b[0;34m.\u001b[0m\u001b[0mexecute\u001b[0m\u001b[0;34m(\u001b[0m\u001b[0mdriver_command\u001b[0m\u001b[0;34m,\u001b[0m \u001b[0mparams\u001b[0m\u001b[0;34m)\u001b[0m\u001b[0;34m\u001b[0m\u001b[0;34m\u001b[0m\u001b[0m\n\u001b[1;32m    423\u001b[0m         \u001b[0;32mif\u001b[0m \u001b[0mresponse\u001b[0m\u001b[0;34m:\u001b[0m\u001b[0;34m\u001b[0m\u001b[0;34m\u001b[0m\u001b[0m\n\u001b[0;32m--> 424\u001b[0;31m             \u001b[0mself\u001b[0m\u001b[0;34m.\u001b[0m\u001b[0merror_handler\u001b[0m\u001b[0;34m.\u001b[0m\u001b[0mcheck_response\u001b[0m\u001b[0;34m(\u001b[0m\u001b[0mresponse\u001b[0m\u001b[0;34m)\u001b[0m\u001b[0;34m\u001b[0m\u001b[0;34m\u001b[0m\u001b[0m\n\u001b[0m\u001b[1;32m    425\u001b[0m             response['value'] = self._unwrap_value(\n\u001b[1;32m    426\u001b[0m                 response.get('value', None))\n",
      "\u001b[0;32m~/anaconda3/lib/python3.7/site-packages/selenium/webdriver/remote/errorhandler.py\u001b[0m in \u001b[0;36mcheck_response\u001b[0;34m(self, response)\u001b[0m\n\u001b[1;32m    245\u001b[0m                 \u001b[0malert_text\u001b[0m \u001b[0;34m=\u001b[0m \u001b[0mvalue\u001b[0m\u001b[0;34m[\u001b[0m\u001b[0;34m'alert'\u001b[0m\u001b[0;34m]\u001b[0m\u001b[0;34m.\u001b[0m\u001b[0mget\u001b[0m\u001b[0;34m(\u001b[0m\u001b[0;34m'text'\u001b[0m\u001b[0;34m)\u001b[0m\u001b[0;34m\u001b[0m\u001b[0;34m\u001b[0m\u001b[0m\n\u001b[1;32m    246\u001b[0m             \u001b[0;32mraise\u001b[0m \u001b[0mexception_class\u001b[0m\u001b[0;34m(\u001b[0m\u001b[0mmessage\u001b[0m\u001b[0;34m,\u001b[0m \u001b[0mscreen\u001b[0m\u001b[0;34m,\u001b[0m \u001b[0mstacktrace\u001b[0m\u001b[0;34m,\u001b[0m \u001b[0malert_text\u001b[0m\u001b[0;34m)\u001b[0m  \u001b[0;31m# type: ignore[call-arg]  # mypy is not smart enough here\u001b[0m\u001b[0;34m\u001b[0m\u001b[0;34m\u001b[0m\u001b[0m\n\u001b[0;32m--> 247\u001b[0;31m         \u001b[0;32mraise\u001b[0m \u001b[0mexception_class\u001b[0m\u001b[0;34m(\u001b[0m\u001b[0mmessage\u001b[0m\u001b[0;34m,\u001b[0m \u001b[0mscreen\u001b[0m\u001b[0;34m,\u001b[0m \u001b[0mstacktrace\u001b[0m\u001b[0;34m)\u001b[0m\u001b[0;34m\u001b[0m\u001b[0;34m\u001b[0m\u001b[0m\n\u001b[0m\u001b[1;32m    248\u001b[0m \u001b[0;34m\u001b[0m\u001b[0m\n\u001b[1;32m    249\u001b[0m     \u001b[0;32mdef\u001b[0m \u001b[0m_value_or_default\u001b[0m\u001b[0;34m(\u001b[0m\u001b[0mself\u001b[0m\u001b[0;34m,\u001b[0m \u001b[0mobj\u001b[0m\u001b[0;34m:\u001b[0m \u001b[0mMapping\u001b[0m\u001b[0;34m[\u001b[0m\u001b[0m_KT\u001b[0m\u001b[0;34m,\u001b[0m \u001b[0m_VT\u001b[0m\u001b[0;34m]\u001b[0m\u001b[0;34m,\u001b[0m \u001b[0mkey\u001b[0m\u001b[0;34m:\u001b[0m \u001b[0m_KT\u001b[0m\u001b[0;34m,\u001b[0m \u001b[0mdefault\u001b[0m\u001b[0;34m:\u001b[0m \u001b[0m_VT\u001b[0m\u001b[0;34m)\u001b[0m \u001b[0;34m->\u001b[0m \u001b[0m_VT\u001b[0m\u001b[0;34m:\u001b[0m\u001b[0;34m\u001b[0m\u001b[0;34m\u001b[0m\u001b[0m\n",
      "\u001b[0;31mWebDriverException\u001b[0m: Message: unknown error: unhandled inspector error: {\"code\":-32000,\"message\":\"No resource with given identifier found\"}\n  (Session info: chrome=97.0.4692.99)\nStacktrace:\n0   chromedriver                        0x00000001075b0e69 chromedriver + 5160553\n1   chromedriver                        0x000000010753b593 chromedriver + 4679059\n2   chromedriver                        0x00000001070ef2c8 chromedriver + 172744\n3   chromedriver                        0x00000001070dac01 chromedriver + 89089\n4   chromedriver                        0x00000001070d98ba chromedriver + 84154\n5   chromedriver                        0x00000001070d9adc chromedriver + 84700\n6   chromedriver                        0x00000001070d9a75 chromedriver + 84597\n7   chromedriver                        0x00000001070f102f chromedriver + 180271\n8   chromedriver                        0x0000000107160ae5 chromedriver + 637669\n9   chromedriver                        0x0000000107142312 chromedriver + 512786\n10  chromedriver                        0x00000001071550ab chromedriver + 589995\n11  chromedriver                        0x0000000107142623 chromedriver + 513571\n12  chromedriver                        0x0000000107117dce chromedriver + 339406\n13  chromedriver                        0x0000000107119105 chromedriver + 344325\n14  chromedriver                        0x000000010756c23e chromedriver + 4878910\n15  chromedriver                        0x0000000107583d17 chromedriver + 4975895\n16  chromedriver                        0x0000000107589a3f chromedriver + 4999743\n17  chromedriver                        0x000000010758461a chromedriver + 4978202\n18  chromedriver                        0x0000000107560bb1 chromedriver + 4832177\n19  chromedriver                        0x00000001075a0fd8 chromedriver + 5095384\n20  chromedriver                        0x00000001075a1161 chromedriver + 5095777\n21  chromedriver                        0x00000001075b82a8 chromedriver + 5190312\n22  libsystem_pthread.dylib             0x00007ff81c3ed4f4 _pthread_start + 125\n23  libsystem_pthread.dylib             0x00007ff81c3e900f thread_start + 15\n"
     ]
    }
   ],
   "source": [
    "browserOptions = Options()\n",
    "browserOptions.add_argument('--ignore-ssl-errors=yes')\n",
    "browserOptions.add_argument('--ignore-certificate-errors')\n",
    "#browserOptions.add_argument(\"--headless\")\n",
    "\n",
    "res = requests.get('http://api.ipify.org', proxies={'http': 'http://127.0.0.1:8081'})\n",
    "prox = Proxy()\n",
    "prox.proxy_type = ProxyType.MANUAL\n",
    "prox.http_proxy = res.text + \":8081\"\n",
    "\n",
    "capa = DesiredCapabilities.CHROME\n",
    "capa[\"pageLoadStrategy\"] = \"none\"\n",
    "capa[\"goog:loggingPrefs\"] = {\"performance\": \"ALL\"}\n",
    "prox.add_to_capabilities(capa)\n",
    "driver = webdriver.Chrome(desired_capabilities=capa, chrome_options=browserOptions)\n",
    "wait = WebDriverWait(driver, 20)\n",
    "\n",
    "#create snapshot of the entire page to prevent it from constantly changing\n",
    "driver.get(\"https://piaofang.maoyan.com/dashboard/movie\")\n",
    "test = None\n",
    "while not test:\n",
    "    try:\n",
    "        test = wait.until(EC.presence_of_element_located((By.CLASS_NAME, 'moviename-td')))\n",
    "    except:\n",
    "        driver.refresh();\n",
    "\n",
    "now = datetime.now().strftime(\"%d-%m-%Y_%H:%M:%S\") # get exact datetime at the time of scrape\n",
    "os.mkdir(\"logs/\" + now)\n",
    "\n",
    "driver.get_screenshot_as_file(\"logs/\" + now + \"/screenshot.png\") # save screenshot to sanity check later\n",
    "\n",
    "logs_raw = driver.get_log(\"performance\")\n",
    "logs = [json.loads(lr[\"message\"])[\"message\"] for lr in logs_raw]\n",
    "\n",
    "def log_filter(log_):\n",
    "    return (\n",
    "        # is an actual response\n",
    "        log_[\"method\"] == \"Network.responseReceived\"\n",
    "        # and json\n",
    "        and \"json\" in log_[\"params\"][\"response\"][\"mimeType\"]\n",
    "    )\n",
    "\n",
    "responses = []\n",
    "\n",
    "for log in filter(log_filter, logs):\n",
    "    request_id = log[\"params\"][\"requestId\"]\n",
    "    resp_url = log[\"params\"][\"response\"][\"url\"]\n",
    "    print(f\"Caught {resp_url}\")\n",
    "    response = driver.execute_cdp_cmd(\"Network.getResponseBody\", {\"requestId\": request_id})\n",
    "    responses.append(response)"
   ]
  },
  {
   "cell_type": "code",
   "execution_count": null,
   "metadata": {},
   "outputs": [],
   "source": [
    "# Get this instance's font file from backend server\n",
    "body0 = json.loads(responses[0]['body'])\n",
    "movieList = body0['movieList']['list']\n",
    "date = body0['calendar']['today']\n",
    "font_url = body0['fontStyle'].split('\"')[-2]\n",
    "\n",
    "# Get reference fonts from the file tree\n",
    "from fontTools.ttLib import TTFont\n",
    "headers = {\n",
    "            \"User-Agent\": \"Mozilla/5.0 (Macintosh; Intel Mac OS X 10_13_4) AppleWebKit/537.36 (KHTML, like Gecko) \"\n",
    "              \"Chrome/66.0.3359.139 Safari/537.36 \"\n",
    "    }\n",
    "\n",
    "woff_url = 'http:' + font_url\n",
    "response_woff = requests.get(woff_url, headers=headers).content\n",
    "\n",
    "print(\"Woff retrieval succuessful: \" + str(len(response_woff) > 0))\n",
    "\n",
    "with open('temp/fonts.woff', 'wb') as f:\n",
    "    f.write(response_woff)"
   ]
  },
  {
   "cell_type": "code",
   "execution_count": null,
   "metadata": {},
   "outputs": [],
   "source": [
    "driver.close() # we don't need the driver anymore from this point forward"
   ]
  },
  {
   "cell_type": "markdown",
   "metadata": {},
   "source": [
    "## Getting digits from the font data using pytesseract"
   ]
  },
  {
   "cell_type": "code",
   "execution_count": null,
   "metadata": {},
   "outputs": [],
   "source": [
    "from fontTools.ttLib import TTFont\n",
    "from PIL import ImageFont, Image, ImageDraw, ImageOps\n",
    "import pytesseract\n",
    "import cv2\n",
    "import numpy as np\n",
    "import random\n",
    "\n",
    "def uniToHex(uni):\n",
    "    return \"&#x\" + uni[3:].lower()\n",
    "\n",
    "def uni_2_png_stream(txt: str, font: str, img_size=512, font_size=0.7, invert=False):\n",
    "    img = Image.new('1', (img_size, img_size), 255) \n",
    "    draw = ImageDraw.Draw(img)\n",
    "    font = ImageFont.truetype(font, int(img_size * font_size))\n",
    "    \n",
    "    txt = chr(txt)\n",
    "    x, y = draw.textsize(txt, font=font) \n",
    "    draw.text(((img_size - x) // 2, (img_size - y) // 2), txt, font=font, fill=0)\n",
    "    if invert:\n",
    "        img = img.convert('L')\n",
    "        img = ImageOps.invert(img)\n",
    "        img = img.convert('1')\n",
    "    #img.save(txt + '.png')\n",
    "    return img \n",
    "\n",
    "def predict_neural(unicode, fontFile):\n",
    "    image = uni_2_png_stream(int(unicode[3:], 16), fontFile, img_size=28, font_size=0.5, invert=True)\n",
    "    image.save(str(unicodeToInt[unicode]) + '_neuro.png')\n",
    "    matrix_form = np.array(image)\n",
    "    weighted_predictions = np.ndarray.flatten(neural_network.run(matrix_form))\n",
    "    most_possible = np.argmax(weighted_predictions)\n",
    "    return most_possible\n",
    "\n",
    "def predict_tesseract(unicode, fontFile, fontSize=0.5):\n",
    "    image = uni_2_png_stream(int(unicode[3:], 16), fontFile, img_size=1024, font_size=fontSize)\n",
    "    image.save('logs/' + str(now) + '/' + str(unicode) + '.png')\n",
    "    text = pytesseract.image_to_string(image, lang=\"eng\", config=\"--psm 10 outputbase digits -c tessedit_char_whitelist=0123456789\")\n",
    "    return text\n",
    "\n",
    "def predict_tesseract_definite(unicode, fontFile):\n",
    "    result, size = '', 1\n",
    "    while not result and size >= 0:\n",
    "        result = predict_tesseract(x, filename, fontSize=size)\n",
    "        size -= 0.01\n",
    "    return result"
   ]
  },
  {
   "cell_type": "code",
   "execution_count": null,
   "metadata": {},
   "outputs": [],
   "source": [
    "# Map contours to numbers - the prediction phase may be very slow\n",
    "filename = 'temp/fonts.woff'\n",
    "f = TTFont(filename)\n",
    "hexToInt = {}\n",
    "for x in f.getGlyphNames()[1:-1]:\n",
    "    predict = predict_tesseract_definite(x, filename)\n",
    "    hexToInt[uniToHex(x)] = int(predict)\n",
    "\n",
    "hexToInt"
   ]
  },
  {
   "cell_type": "markdown",
   "metadata": {},
   "source": [
    "## Parsing the data into pandas dataframe"
   ]
  },
  {
   "cell_type": "code",
   "execution_count": null,
   "metadata": {},
   "outputs": [],
   "source": [
    "import pandas as pd\n",
    "df = pd.DataFrame.from_records(movieList)"
   ]
  },
  {
   "cell_type": "code",
   "execution_count": null,
   "metadata": {},
   "outputs": [],
   "source": [
    "unitLookup = {'百': 100, '千': 1000, '万': 10000, '亿': 1*10**8}\n",
    "\n",
    "#converts the weird character to a float\n",
    "def convertToFloat(string):\n",
    "    spCharLst = string.split(';')\n",
    "    result = ''\n",
    "    for i in spCharLst:\n",
    "        if len(i) > 7: #has a dot in front\n",
    "            result += '.' + str(hexToInt[i[1:]])\n",
    "        elif len(i) == 7: #in case of bad parsing\n",
    "            result += str(hexToInt[i])\n",
    "    return float(result)\n",
    "\n",
    "#helper function for converting the entire block to a single int\n",
    "def convertDictToInt(dictionary):\n",
    "    return int(convertToFloat(dictionary['num']) * unitLookup[dictionary['unit']])\n"
   ]
  },
  {
   "cell_type": "code",
   "execution_count": null,
   "metadata": {},
   "outputs": [],
   "source": [
    "df['boxSplitUnit'] = df['boxSplitUnit'].apply(convertDictToInt)\n",
    "df['splitBoxSplitUnit'] = df['splitBoxSplitUnit'].apply(convertDictToInt)\n",
    "df['movieInfo'] = df['movieInfo'].apply(lambda x : x['movieName'])\n",
    "df.to_csv(\"logs/\" + now + \"/maoyan_data.csv\", encoding='utf_8_sig')\n",
    "df"
   ]
  },
  {
   "cell_type": "code",
   "execution_count": null,
   "metadata": {},
   "outputs": [],
   "source": [
    "#大盘\n",
    "dapan = pd.DataFrame.from_records(body0['movieList']['nationBoxInfo'])\n",
    "dapan['nationBoxSplitUnit'][0] = convertDictToInt(body0['movieList']['nationBoxInfo']['nationBoxSplitUnit'])\n",
    "dapan['nationSplitBoxSplitUnit'][0] = convertDictToInt(body0['movieList']['nationBoxInfo']['nationSplitBoxSplitUnit'])\n",
    "dapan.drop(labels=['unit'], axis=0, inplace=True)\n",
    "dapan.to_csv(\"logs/\" + now + \"/dapan.csv\", encoding='utf_8_sig')"
   ]
  },
  {
   "cell_type": "code",
   "execution_count": null,
   "metadata": {},
   "outputs": [],
   "source": [
    "# Comparing with the screenshot earlier\n",
    "#from IPython.display import Image as displayImage\n",
    "#displayImage(filename=\"logs/\" + now + \"/screenshot.png\") "
   ]
  },
  {
   "cell_type": "markdown",
   "metadata": {},
   "source": [
    "# Stage 2: Douban\n",
    "## Search for movie names and get page sources"
   ]
  },
  {
   "cell_type": "code",
   "execution_count": null,
   "metadata": {},
   "outputs": [],
   "source": [
    "browserOptions = Options()\n",
    "#browserOptions.add_argument(\"--headless\")\n",
    "\n",
    "capa = DesiredCapabilities.CHROME\n",
    "capa[\"pageLoadStrategy\"] = \"none\"\n",
    "capa[\"goog:loggingPrefs\"] = {\"performance\": \"ALL\"}\n",
    "driver = webdriver.Chrome(desired_capabilities=capa, chrome_options=browserOptions)\n",
    "wait = WebDriverWait(driver, 20)\n",
    "\n",
    "driver.get(\"https://movie.douban.com/\")\n",
    "\n",
    "test = None\n",
    "while not test:\n",
    "    try:\n",
    "        test = wait.until(EC.presence_of_element_located((By.CLASS_NAME, 'nav')))\n",
    "    except:\n",
    "        pass\n",
    "        #driver.refresh();\n",
    "\n",
    "jsonLst = []    \n",
    "soupLst = []\n",
    "percent1star, percent2star, percent3star, percent4star, percent5star = [], [], [], [], []\n",
    "betterThan = []\n",
    "shortReview, reviewRating, helpful, totalReviews = [], [], [], []\n",
    "imdb = []\n",
    "playSource = []\n",
    "\n",
    "def search(name):\n",
    "    inputElement = driver.find_element_by_id('inp-query')\n",
    "    inputElement.send_keys(name)\n",
    "    inputElement.send_keys(Keys.ENTER)\n",
    "    wait.until(EC.presence_of_element_located((By.CLASS_NAME, 'cover-link')))\n",
    "    firstMovie = driver.find_elements_by_class_name('cover-link')[0]\n",
    "    firstMovie.click()\n",
    "    res = requests.get(driver.current_url, headers=headers)\n",
    "    soup = bs(res.text, 'lxml')\n",
    "    soupLst.append(soup)\n",
    "    \n",
    "    if len(soup.select('span[class^=\"rating_per\"]')) == 5:\n",
    "        for i, x in enumerate(soup.select('span[class^=\"rating_per\"]')):\n",
    "            try:\n",
    "                globals()['percent' + str(i + 1) + 'star'].append(x.text)\n",
    "            except:\n",
    "                globals()['percent' + str(i + 1) + 'star'].append(None)\n",
    "    else: \n",
    "        for i in range(1, 6):\n",
    "            globals()['percent' + str(i) + 'star'].append(None)\n",
    "            \n",
    "            \n",
    "    try:\n",
    "        playSource.append([x.text.strip() for x in soup.select('a[class^=\"playBtn\"]')])\n",
    "    except:\n",
    "        playSource.append([])\n",
    "            \n",
    "    try:\n",
    "        betterThan.append([x.text for x in soup.select('a[href^=\"/typerank?type_name=\"]')])\n",
    "    except: \n",
    "        betterThan.append([])\n",
    "        \n",
    "    try: \n",
    "        shortReview.append([x.text for x in soup.select('span[class^=\"short\"]')])\n",
    "    except: \n",
    "        shortReview.append([])\n",
    "        \n",
    "    try:\n",
    "        reviewRating.append([x.text for x in soup.select('span[class^=\"votes vote-count\"]')])\n",
    "    except: \n",
    "        reviewRating.append([])\n",
    "        \n",
    "    try:\n",
    "        helpful.append([x['class'][0][-2:-1] for x in soup.select('span[class$=\"0 rating\"]')])\n",
    "    except:\n",
    "        helpful.append([])\n",
    "    \n",
    "    try:\n",
    "        totalReviews.append(soup.select_one('a[href$=\"comments?status=P\"]').text.strip())\n",
    "    except:\n",
    "        totalReviews.append(None)\n",
    "    \n",
    "    try:\n",
    "        imdb.append(re.search('IMDb:</span>(.*)<br/>', str(soup.select_one('div[id^=\"info\"]')), re.IGNORECASE).group(1).strip())\n",
    "    except:\n",
    "        imdb.append(None)\n",
    "        \n",
    "    sj = json.loads(soup.select_one('script[type^=\"application/ld+json\"]').text, strict=False)\n",
    "    jsonLst.append(sj)\n",
    "\n",
    "for i in df['movieInfo']:\n",
    "    search(i)\n",
    "    \n",
    "df_douban = pd.DataFrame.from_records(infoLst)\n",
    "df_douban.to_csv(\"logs/\" + now + \"/douban_data_raw.csv\", encoding='utf_8_sig')"
   ]
  },
  {
   "cell_type": "markdown",
   "metadata": {},
   "source": [
    "## Parse collected data and put into combined dataframe"
   ]
  },
  {
   "cell_type": "code",
   "execution_count": null,
   "metadata": {},
   "outputs": [],
   "source": [
    "def parsePeopleLst(lst):\n",
    "    result = []\n",
    "    for i in lst: \n",
    "        result.append(i['name'])\n",
    "    return result\n",
    "\n",
    "def parseRatingLst(lst):\n",
    "    return (lst['ratingValue'], lst['ratingCount'], lst['bestRating'], lst['worstRating'])\n",
    "\n",
    "df_combined = df\n",
    "df_combined['imdb'] = imdb\n",
    "df_combined['duration'] = df_douban['duration']\n",
    "df_combined['datePublished'] = df_douban['datePublished']\n",
    "df_combined['genre'] = df_douban['genre']\n",
    "df_combined['ratingValue'], df_combined['ratingCount'], df_combined['bestRating'], df_combined['worstRating'] = df_douban['aggregateRating'].apply(parseRatingLst)\n",
    "\n",
    "for i in range(1, 6):\n",
    "    df_combined['ratingPercentage' + str(i) + 'Star'] = globals()['percent' + str(i) + 'star']\n",
    "    \n",
    "df_combined['betterThan'] = betterThan\n",
    "df_combined['shortReview'], df_combined['reviewRating'], df_combined['helpful'], df_combined['totalReviews'] = shortReview, reviewRating, helpful, totalReviews\n",
    "\n",
    "df_combined['playSources'] = playSource\n",
    "\n",
    "df_combined['director'] = df_douban['director'].apply(parsePeopleLst)\n",
    "df_combined['author'] = df_douban['author'].apply(parsePeopleLst)\n",
    "df_combined['actors'] = df_douban['actor'].apply(parsePeopleLst)\n",
    "df_combined['description'] = df_douban['description']\n",
    "df_combined['url'] = df_douban['url']\n",
    "df_combined['doubanDataRaw'] = soupLst\n",
    "\n",
    "df_combined.to_csv(\"logs/\" + now + \"/combined.csv\", encoding='utf_8_sig')"
   ]
  },
  {
   "cell_type": "code",
   "execution_count": null,
   "metadata": {},
   "outputs": [],
   "source": [
    "df_combined"
   ]
  },
  {
   "cell_type": "code",
   "execution_count": null,
   "metadata": {},
   "outputs": [],
   "source": []
  }
 ],
 "metadata": {
  "kernelspec": {
   "display_name": "Python 3",
   "language": "python",
   "name": "python3"
  },
  "language_info": {
   "codemirror_mode": {
    "name": "ipython",
    "version": 3
   },
   "file_extension": ".py",
   "mimetype": "text/x-python",
   "name": "python",
   "nbconvert_exporter": "python",
   "pygments_lexer": "ipython3",
   "version": "3.7.3"
  }
 },
 "nbformat": 4,
 "nbformat_minor": 2
}
