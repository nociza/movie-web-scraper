{
 "cells": [
  {
   "cell_type": "code",
   "execution_count": 101,
   "metadata": {},
   "outputs": [],
   "source": [
    "import re\n",
    "import requests\n",
    "from bs4 import BeautifulSoup as bs\n",
    "from selenium import webdriver\n",
    "from selenium.webdriver.chrome.options import Options\n",
    "from selenium.webdriver.common.desired_capabilities import DesiredCapabilities\n",
    "from selenium.webdriver.support.ui import WebDriverWait\n",
    "from selenium.webdriver.support import expected_conditions as EC\n",
    "from selenium.webdriver.common.by import By\n",
    "import simplejson as json"
   ]
  },
  {
   "cell_type": "code",
   "execution_count": null,
   "metadata": {},
   "outputs": [],
   "source": [
    "res = requests.get(\"https://piaofang.maoyan.com/dashboard/movie\")\n",
    "res.encoding = 'utf-8'\n",
    "soup = bs(res.text, 'html.parser')"
   ]
  },
  {
   "cell_type": "raw",
   "metadata": {},
   "source": [
    "The website checks for headless requests, we therefore have to use selenium. "
   ]
  },
  {
   "cell_type": "code",
   "execution_count": null,
   "metadata": {},
   "outputs": [],
   "source": [
    "browserOptions = Options()\n",
    "#browserOptions.add_argument(\"--headless\")\n",
    "\n",
    "capa = DesiredCapabilities.CHROME\n",
    "capa[\"pageLoadStrategy\"] = \"none\"\n",
    "capa[\"goog:loggingPrefs\"] = {\"performance\": \"ALL\"}\n",
    "driver = webdriver.Chrome(desired_capabilities=capa)\n",
    "wait = WebDriverWait(driver, 20)"
   ]
  },
  {
   "cell_type": "code",
   "execution_count": null,
   "metadata": {},
   "outputs": [],
   "source": [
    "#create snapshot of the entire page to prevent it from constantly changing\n",
    "driver.get(\"https://piaofang.maoyan.com/dashboard/movie\")\n",
    "test = None\n",
    "while not test:\n",
    "    try:\n",
    "        test = wait.until(EC.presence_of_element_located((By.CLASS_NAME, 'moviename-td')))\n",
    "    except:\n",
    "        driver.refresh();\n",
    "        \n",
    "logs_raw = driver.get_log(\"performance\")\n",
    "logs = [json.loads(lr[\"message\"])[\"message\"] for lr in logs_raw]\n",
    "\n",
    "def log_filter(log_):\n",
    "    return (\n",
    "        # is an actual response\n",
    "        log_[\"method\"] == \"Network.responseReceived\"\n",
    "        # and json\n",
    "        and \"json\" in log_[\"params\"][\"response\"][\"mimeType\"]\n",
    "    )\n",
    "\n",
    "responses = []\n",
    "\n",
    "for log in filter(log_filter, logs):\n",
    "    request_id = log[\"params\"][\"requestId\"]\n",
    "    resp_url = log[\"params\"][\"response\"][\"url\"]\n",
    "    print(f\"Caught {resp_url}\")\n",
    "    response = driver.execute_cdp_cmd(\"Network.getResponseBody\", {\"requestId\": request_id})\n",
    "    responses.append(response)\n",
    "    \n",
    "\n",
    "    "
   ]
  },
  {
   "cell_type": "code",
   "execution_count": null,
   "metadata": {},
   "outputs": [],
   "source": [
    "body0 = json.loads(responses[0]['body'])\n",
    "movieList = body0['movieList']['list']\n",
    "date = body0['calendar']['today']\n",
    "font_url = body0['fontStyle'].split('\"')[-2]\n",
    "font_url"
   ]
  },
  {
   "cell_type": "code",
   "execution_count": null,
   "metadata": {},
   "outputs": [],
   "source": [
    "# Get reference fonts from the file tree\n",
    "from fontTools.ttLib import TTFont\n",
    "headers = {\n",
    "            \"User-Agent\": \"Mozilla/5.0 (Macintosh; Intel Mac OS X 10_13_4) AppleWebKit/537.36 (KHTML, like Gecko) \"\n",
    "              \"Chrome/66.0.3359.139 Safari/537.36 \"\n",
    "    }\n",
    "\n",
    "woff_url = 'http:' + font_url\n",
    "response_woff = requests.get(woff_url, headers=headers).content\n",
    "\n",
    "print(\"Woff retrieval succuessful: \" + str(len(response_woff) > 0))\n",
    "\n",
    "with open('fonts.woff', 'wb') as f:\n",
    "    f.write(response_woff)\n",
    "\n",
    "# Already saved, DO NOT RUN THE FOLLOWING \n",
    "#with open('basefonts.woff', 'wb') as f:\n",
    "    #f.write(response_woff)\n",
    "    \n",
    "#font1 = TTFont('basefonts.woff')\n",
    "#font1.saveXML('basefonts.xml')"
   ]
  },
  {
   "cell_type": "code",
   "execution_count": null,
   "metadata": {},
   "outputs": [],
   "source": [
    "import pandas as pd\n",
    "df = pd.DataFrame.from_records(movieList)"
   ]
  },
  {
   "cell_type": "code",
   "execution_count": null,
   "metadata": {},
   "outputs": [],
   "source": [
    "df['boxSplitUnit'][4]"
   ]
  },
  {
   "cell_type": "code",
   "execution_count": 139,
   "metadata": {},
   "outputs": [],
   "source": [
    "# Now starts the tedius process of mapping the new fonts to the contours and then to the numbers\n",
    "from xml.etree import ElementTree\n",
    "from difflib import get_close_matches\n",
    "from difflib import SequenceMatcher\n",
    "from fontTools.misc.xmlWriter import XMLWriter\n",
    "import re\n",
    "\n",
    "# Create Bijection between numbers and unicode \n",
    "unicodeToInt = {\"uniF581\": 0, \"uniF56B\": 1, \"uniE46D\": 2, \"uniE13D\": 3, \"uniEAA8\": 4, \n",
    "                \"uniE808\": 5, \"uniE1D4\": 6, \"uniE66A\": 7, \"uniE43F\": 8, \"uniECDC\": 9}\n",
    "\n",
    "def hexToUnicode(hexa):\n",
    "    return 'uni' + hexa[3:].upper()\n",
    "\n",
    "def uniToHex(uni):\n",
    "    return \"&#x\" + uni[3:].lower()\n",
    "\n",
    "def base10toHex(num):\n",
    "    return \"&#x\" + str(int(num, 16))\n",
    "\n",
    "def elemToStr(elem):\n",
    "    return ElementTree.tostring(elem, encoding='utf8', method='xml')\n",
    "\n",
    "def trimXML(xml):\n",
    "    return ''.join(xml.split())\n",
    "\n",
    "#If the regular equality doesn't work we then have to use fuzzy matching\n",
    "xRg = re.compile(r'x=\\\"([0-9]+)\\\"')\n",
    "yRg = re.compile(r'y=\\\"([0-9]+)\\\"')\n",
    "def getCoFromXML(xml):\n",
    "    stringToMatch = trimXML(xml)\n",
    "    print(stringToMatch)\n",
    "    x = xRg.match(stringToMatch)\n",
    "    y = yRg.match(stringToMatch)\n",
    "    return {\"x\": x, \"y\": y}\n",
    "    \n",
    "def similar(a, b):\n",
    "    return SequenceMatcher(None, a, b).ratio()\n",
    "    "
   ]
  },
  {
   "cell_type": "markdown",
   "metadata": {},
   "source": [
    "## Getting digits from the font data\n",
    "with neural networks"
   ]
  },
  {
   "cell_type": "code",
   "execution_count": 166,
   "metadata": {},
   "outputs": [],
   "source": [
    "from fontTools.ttLib import TTFont\n",
    "from PIL import ImageFont, Image, ImageDraw\n",
    "import pytesseract\n",
    "import cv2\n",
    "import numpy as np\n",
    "import digit_recognition as dr\n",
    "from wand.image import Image as wImage\n",
    "import random"
   ]
  },
  {
   "cell_type": "code",
   "execution_count": 173,
   "metadata": {},
   "outputs": [
    {
     "ename": "ClosedImageError",
     "evalue": "<wand.image.Image: (closed)> is closed already",
     "output_type": "error",
     "traceback": [
      "\u001b[0;31m---------------------------------------------------------------------------\u001b[0m",
      "\u001b[0;31mDestroyedResourceError\u001b[0m                    Traceback (most recent call last)",
      "\u001b[0;32m~/anaconda3/lib/python3.7/site-packages/wand/image.py\u001b[0m in \u001b[0;36mwand\u001b[0;34m(self)\u001b[0m\n\u001b[1;32m   2407\u001b[0m         \u001b[0;32mtry\u001b[0m\u001b[0;34m:\u001b[0m\u001b[0;34m\u001b[0m\u001b[0;34m\u001b[0m\u001b[0m\n\u001b[0;32m-> 2408\u001b[0;31m             \u001b[0;32mreturn\u001b[0m \u001b[0mself\u001b[0m\u001b[0;34m.\u001b[0m\u001b[0mresource\u001b[0m\u001b[0;34m\u001b[0m\u001b[0;34m\u001b[0m\u001b[0m\n\u001b[0m\u001b[1;32m   2409\u001b[0m         \u001b[0;32mexcept\u001b[0m \u001b[0mDestroyedResourceError\u001b[0m\u001b[0;34m:\u001b[0m\u001b[0;34m\u001b[0m\u001b[0;34m\u001b[0m\u001b[0m\n",
      "\u001b[0;32m~/anaconda3/lib/python3.7/site-packages/wand/resource.py\u001b[0m in \u001b[0;36mresource\u001b[0;34m(self)\u001b[0m\n\u001b[1;32m    171\u001b[0m         \u001b[0;32mif\u001b[0m \u001b[0mgetattr\u001b[0m\u001b[0;34m(\u001b[0m\u001b[0mself\u001b[0m\u001b[0;34m,\u001b[0m \u001b[0;34m'c_resource'\u001b[0m\u001b[0;34m,\u001b[0m \u001b[0;32mNone\u001b[0m\u001b[0;34m)\u001b[0m \u001b[0;32mis\u001b[0m \u001b[0;32mNone\u001b[0m\u001b[0;34m:\u001b[0m\u001b[0;34m\u001b[0m\u001b[0;34m\u001b[0m\u001b[0m\n\u001b[0;32m--> 172\u001b[0;31m             \u001b[0;32mraise\u001b[0m \u001b[0mDestroyedResourceError\u001b[0m\u001b[0;34m(\u001b[0m\u001b[0mrepr\u001b[0m\u001b[0;34m(\u001b[0m\u001b[0mself\u001b[0m\u001b[0;34m)\u001b[0m \u001b[0;34m+\u001b[0m \u001b[0;34m' is destroyed already'\u001b[0m\u001b[0;34m)\u001b[0m\u001b[0;34m\u001b[0m\u001b[0;34m\u001b[0m\u001b[0m\n\u001b[0m\u001b[1;32m    173\u001b[0m         \u001b[0;32mreturn\u001b[0m \u001b[0mself\u001b[0m\u001b[0;34m.\u001b[0m\u001b[0mc_resource\u001b[0m\u001b[0;34m\u001b[0m\u001b[0;34m\u001b[0m\u001b[0m\n",
      "\u001b[0;31mDestroyedResourceError\u001b[0m: <wand.image.Image: (closed)> is destroyed already",
      "\nDuring handling of the above exception, another exception occurred:\n",
      "\u001b[0;31mClosedImageError\u001b[0m                          Traceback (most recent call last)",
      "\u001b[0;32m~/anaconda3/lib/python3.7/site-packages/IPython/core/formatters.py\u001b[0m in \u001b[0;36m__call__\u001b[0;34m(self, obj)\u001b[0m\n\u001b[1;32m    343\u001b[0m             \u001b[0mmethod\u001b[0m \u001b[0;34m=\u001b[0m \u001b[0mget_real_method\u001b[0m\u001b[0;34m(\u001b[0m\u001b[0mobj\u001b[0m\u001b[0;34m,\u001b[0m \u001b[0mself\u001b[0m\u001b[0;34m.\u001b[0m\u001b[0mprint_method\u001b[0m\u001b[0;34m)\u001b[0m\u001b[0;34m\u001b[0m\u001b[0;34m\u001b[0m\u001b[0m\n\u001b[1;32m    344\u001b[0m             \u001b[0;32mif\u001b[0m \u001b[0mmethod\u001b[0m \u001b[0;32mis\u001b[0m \u001b[0;32mnot\u001b[0m \u001b[0;32mNone\u001b[0m\u001b[0;34m:\u001b[0m\u001b[0;34m\u001b[0m\u001b[0;34m\u001b[0m\u001b[0m\n\u001b[0;32m--> 345\u001b[0;31m                 \u001b[0;32mreturn\u001b[0m \u001b[0mmethod\u001b[0m\u001b[0;34m(\u001b[0m\u001b[0;34m)\u001b[0m\u001b[0;34m\u001b[0m\u001b[0;34m\u001b[0m\u001b[0m\n\u001b[0m\u001b[1;32m    346\u001b[0m             \u001b[0;32mreturn\u001b[0m \u001b[0;32mNone\u001b[0m\u001b[0;34m\u001b[0m\u001b[0;34m\u001b[0m\u001b[0m\n\u001b[1;32m    347\u001b[0m         \u001b[0;32melse\u001b[0m\u001b[0;34m:\u001b[0m\u001b[0;34m\u001b[0m\u001b[0;34m\u001b[0m\u001b[0m\n",
      "\u001b[0;32m~/anaconda3/lib/python3.7/site-packages/wand/image.py\u001b[0m in \u001b[0;36m_repr_png_\u001b[0;34m(self)\u001b[0m\n\u001b[1;32m   8255\u001b[0m \u001b[0;34m\u001b[0m\u001b[0m\n\u001b[1;32m   8256\u001b[0m     \u001b[0;32mdef\u001b[0m \u001b[0m_repr_png_\u001b[0m\u001b[0;34m(\u001b[0m\u001b[0mself\u001b[0m\u001b[0;34m)\u001b[0m\u001b[0;34m:\u001b[0m\u001b[0;34m\u001b[0m\u001b[0;34m\u001b[0m\u001b[0m\n\u001b[0;32m-> 8257\u001b[0;31m         \u001b[0;32mwith\u001b[0m \u001b[0mself\u001b[0m\u001b[0;34m.\u001b[0m\u001b[0mconvert\u001b[0m\u001b[0;34m(\u001b[0m\u001b[0;34m'png'\u001b[0m\u001b[0;34m)\u001b[0m \u001b[0;32mas\u001b[0m \u001b[0mcloned\u001b[0m\u001b[0;34m:\u001b[0m\u001b[0;34m\u001b[0m\u001b[0;34m\u001b[0m\u001b[0m\n\u001b[0m\u001b[1;32m   8258\u001b[0m             \u001b[0;32mreturn\u001b[0m \u001b[0mcloned\u001b[0m\u001b[0;34m.\u001b[0m\u001b[0mmake_blob\u001b[0m\u001b[0;34m(\u001b[0m\u001b[0;34m)\u001b[0m\u001b[0;34m\u001b[0m\u001b[0;34m\u001b[0m\u001b[0m\n\u001b[1;32m   8259\u001b[0m \u001b[0;34m\u001b[0m\u001b[0m\n",
      "\u001b[0;32m~/anaconda3/lib/python3.7/site-packages/wand/image.py\u001b[0m in \u001b[0;36mconvert\u001b[0;34m(self, format)\u001b[0m\n\u001b[1;32m   8575\u001b[0m \u001b[0;34m\u001b[0m\u001b[0m\n\u001b[1;32m   8576\u001b[0m         \"\"\"\n\u001b[0;32m-> 8577\u001b[0;31m         \u001b[0mcloned\u001b[0m \u001b[0;34m=\u001b[0m \u001b[0mself\u001b[0m\u001b[0;34m.\u001b[0m\u001b[0mclone\u001b[0m\u001b[0;34m(\u001b[0m\u001b[0;34m)\u001b[0m\u001b[0;34m\u001b[0m\u001b[0;34m\u001b[0m\u001b[0m\n\u001b[0m\u001b[1;32m   8578\u001b[0m         \u001b[0mcloned\u001b[0m\u001b[0;34m.\u001b[0m\u001b[0mformat\u001b[0m \u001b[0;34m=\u001b[0m \u001b[0mformat\u001b[0m\u001b[0;34m\u001b[0m\u001b[0;34m\u001b[0m\u001b[0m\n\u001b[1;32m   8579\u001b[0m         \u001b[0;32mreturn\u001b[0m \u001b[0mcloned\u001b[0m\u001b[0;34m\u001b[0m\u001b[0;34m\u001b[0m\u001b[0m\n",
      "\u001b[0;32m~/anaconda3/lib/python3.7/site-packages/wand/image.py\u001b[0m in \u001b[0;36mclone\u001b[0;34m(self)\u001b[0m\n\u001b[1;32m   3162\u001b[0m \u001b[0;34m\u001b[0m\u001b[0m\n\u001b[1;32m   3163\u001b[0m         \"\"\"\n\u001b[0;32m-> 3164\u001b[0;31m         \u001b[0;32mreturn\u001b[0m \u001b[0mImage\u001b[0m\u001b[0;34m(\u001b[0m\u001b[0mimage\u001b[0m\u001b[0;34m=\u001b[0m\u001b[0mself\u001b[0m\u001b[0;34m)\u001b[0m\u001b[0;34m\u001b[0m\u001b[0;34m\u001b[0m\u001b[0m\n\u001b[0m\u001b[1;32m   3165\u001b[0m \u001b[0;34m\u001b[0m\u001b[0m\n\u001b[1;32m   3166\u001b[0m     \u001b[0;34m@\u001b[0m\u001b[0mmanipulative\u001b[0m\u001b[0;34m\u001b[0m\u001b[0;34m\u001b[0m\u001b[0m\n",
      "\u001b[0;32m~/anaconda3/lib/python3.7/site-packages/wand/image.py\u001b[0m in \u001b[0;36m__init__\u001b[0;34m(self, image, blob, file, filename, format, width, height, depth, background, resolution, pseudo, colorspace, units)\u001b[0m\n\u001b[1;32m   8186\u001b[0m                     raise TypeError('image must be a wand.image.Image '\n\u001b[1;32m   8187\u001b[0m                                     'instance, not ' + repr(image))\n\u001b[0;32m-> 8188\u001b[0;31m                 \u001b[0mwand\u001b[0m \u001b[0;34m=\u001b[0m \u001b[0mlibrary\u001b[0m\u001b[0;34m.\u001b[0m\u001b[0mCloneMagickWand\u001b[0m\u001b[0;34m(\u001b[0m\u001b[0mimage\u001b[0m\u001b[0;34m.\u001b[0m\u001b[0mwand\u001b[0m\u001b[0;34m)\u001b[0m\u001b[0;34m\u001b[0m\u001b[0;34m\u001b[0m\u001b[0m\n\u001b[0m\u001b[1;32m   8189\u001b[0m                 \u001b[0msuper\u001b[0m\u001b[0;34m(\u001b[0m\u001b[0mImage\u001b[0m\u001b[0;34m,\u001b[0m \u001b[0mself\u001b[0m\u001b[0;34m)\u001b[0m\u001b[0;34m.\u001b[0m\u001b[0m__init__\u001b[0m\u001b[0;34m(\u001b[0m\u001b[0mwand\u001b[0m\u001b[0;34m)\u001b[0m\u001b[0;34m\u001b[0m\u001b[0;34m\u001b[0m\u001b[0m\n\u001b[1;32m   8190\u001b[0m             \u001b[0;32melif\u001b[0m \u001b[0many\u001b[0m\u001b[0;34m(\u001b[0m\u001b[0ma\u001b[0m \u001b[0;32mis\u001b[0m \u001b[0;32mnot\u001b[0m \u001b[0;32mNone\u001b[0m \u001b[0;32mfor\u001b[0m \u001b[0ma\u001b[0m \u001b[0;32min\u001b[0m \u001b[0mopen_args\u001b[0m\u001b[0;34m)\u001b[0m\u001b[0;34m:\u001b[0m\u001b[0;34m\u001b[0m\u001b[0;34m\u001b[0m\u001b[0m\n",
      "\u001b[0;32m~/anaconda3/lib/python3.7/site-packages/wand/image.py\u001b[0m in \u001b[0;36mwand\u001b[0;34m(self)\u001b[0m\n\u001b[1;32m   2408\u001b[0m             \u001b[0;32mreturn\u001b[0m \u001b[0mself\u001b[0m\u001b[0;34m.\u001b[0m\u001b[0mresource\u001b[0m\u001b[0;34m\u001b[0m\u001b[0;34m\u001b[0m\u001b[0m\n\u001b[1;32m   2409\u001b[0m         \u001b[0;32mexcept\u001b[0m \u001b[0mDestroyedResourceError\u001b[0m\u001b[0;34m:\u001b[0m\u001b[0;34m\u001b[0m\u001b[0;34m\u001b[0m\u001b[0m\n\u001b[0;32m-> 2410\u001b[0;31m             \u001b[0;32mraise\u001b[0m \u001b[0mClosedImageError\u001b[0m\u001b[0;34m(\u001b[0m\u001b[0mrepr\u001b[0m\u001b[0;34m(\u001b[0m\u001b[0mself\u001b[0m\u001b[0;34m)\u001b[0m \u001b[0;34m+\u001b[0m \u001b[0;34m' is closed already'\u001b[0m\u001b[0;34m)\u001b[0m\u001b[0;34m\u001b[0m\u001b[0;34m\u001b[0m\u001b[0m\n\u001b[0m\u001b[1;32m   2411\u001b[0m \u001b[0;34m\u001b[0m\u001b[0m\n\u001b[1;32m   2412\u001b[0m     \u001b[0;34m@\u001b[0m\u001b[0mwand\u001b[0m\u001b[0;34m.\u001b[0m\u001b[0msetter\u001b[0m\u001b[0;34m\u001b[0m\u001b[0;34m\u001b[0m\u001b[0m\n",
      "\u001b[0;31mClosedImageError\u001b[0m: <wand.image.Image: (closed)> is closed already"
     ]
    },
    {
     "data": {
      "text/plain": [
       "<wand.image.Image: (closed)>"
      ]
     },
     "execution_count": 173,
     "metadata": {},
     "output_type": "execute_result"
    }
   ],
   "source": [
    "# Creating training sets and labels\n",
    "\n",
    "def distortImage(number):\n",
    "    with wImage(filename=(\"training_images/\" + str(i) + \".png\")) as img:\n",
    "        scale = random.uniform(0.6, 1.4)\n",
    "        img.distort('scale_rotate_translate', (scale, 0,))\n",
    "        img.save(filename='test.png')\n",
    "        return img\n",
    "\n",
    "# Reference Images\n",
    "basefontimgs = []\n",
    "basefontlabels = []\n",
    "for i in range(10):\n",
    "    with Image.open(\"training_images/\" + str(i) + \".png\") as im:\n",
    "        basefontimgs.append(np.array(im))\n",
    "        scale = 0.5\n",
    "        \n",
    "    basefontlabels.append([0.01 if x != i else 0.09 for x in range(10)])\n",
    "\n",
    "\n",
    "\n",
    "distortImage(4)\n"
   ]
  },
  {
   "cell_type": "code",
   "execution_count": 146,
   "metadata": {},
   "outputs": [
    {
     "name": "stdout",
     "output_type": "stream",
     "text": [
      "Data has been downloaded\n",
      "Data preprocessed successfully\n",
      "Network created successfully\n",
      "Training...\n",
      "Epoch: 1 (of 10)\n",
      "Epoch: 2 (of 10)\n",
      "Epoch: 3 (of 10)\n",
      "Epoch: 4 (of 10)\n",
      "Epoch: 5 (of 10)\n",
      "Epoch: 6 (of 10)\n",
      "Epoch: 7 (of 10)\n",
      "Epoch: 8 (of 10)\n",
      "Epoch: 9 (of 10)\n",
      "Epoch: 10 (of 10)\n",
      "Network trained successfully\n",
      "Accuracy: 97.59%\n",
      "Recall for 0: 99.08%\n",
      "Precision for 0: 97.29%\n",
      "Recall for 1: 99.38%\n",
      "Precision for 1: 98.69%\n",
      "Recall for 2: 97.38%\n",
      "Precision for 2: 97.38%\n",
      "Recall for 3: 97.72%\n",
      "Precision for 3: 98.01%\n",
      "Recall for 4: 97.76%\n",
      "Precision for 4: 96.68%\n",
      "Recall for 5: 96.97%\n",
      "Precision for 5: 97.74%\n",
      "Recall for 6: 98.02%\n",
      "Precision for 6: 97.71%\n",
      "Recall for 7: 97.37%\n",
      "Precision for 7: 97.37%\n",
      "Recall for 8: 96.00%\n",
      "Precision for 8: 97.40%\n",
      "Recall for 9: 95.94%\n",
      "Precision for 9: 97.48%\n"
     ]
    }
   ],
   "source": [
    "# Import data\n",
    "train_images, train_labels, test_images, test_labels = dr.pre_processing()\n",
    "\n",
    "# Build neural network (with two hidden layers of 200/100 nodes respectively)\n",
    "neural_network = dr.NeuralNetwork([784,200,100,10], bias=True)\n",
    "neural_network.train(train_images, train_labels, epochs=10)\n",
    "neural_network.evaluate(test_images, test_labels)"
   ]
  },
  {
   "cell_type": "code",
   "execution_count": 150,
   "metadata": {},
   "outputs": [
    {
     "name": "stdout",
     "output_type": "stream",
     "text": [
      "Training...\n",
      "Epoch: 1 (of 100)\n",
      "Epoch: 2 (of 100)\n",
      "Epoch: 3 (of 100)\n",
      "Epoch: 4 (of 100)\n",
      "Epoch: 5 (of 100)\n",
      "Epoch: 6 (of 100)\n",
      "Epoch: 7 (of 100)\n",
      "Epoch: 8 (of 100)\n",
      "Epoch: 9 (of 100)\n",
      "Epoch: 10 (of 100)\n",
      "Epoch: 11 (of 100)\n",
      "Epoch: 12 (of 100)\n",
      "Epoch: 13 (of 100)\n",
      "Epoch: 14 (of 100)\n",
      "Epoch: 15 (of 100)\n",
      "Epoch: 16 (of 100)\n",
      "Epoch: 17 (of 100)\n",
      "Epoch: 18 (of 100)\n",
      "Epoch: 19 (of 100)\n",
      "Epoch: 20 (of 100)\n",
      "Epoch: 21 (of 100)\n",
      "Epoch: 22 (of 100)\n",
      "Epoch: 23 (of 100)\n",
      "Epoch: 24 (of 100)\n",
      "Epoch: 25 (of 100)\n",
      "Epoch: 26 (of 100)\n",
      "Epoch: 27 (of 100)\n",
      "Epoch: 28 (of 100)\n",
      "Epoch: 29 (of 100)\n",
      "Epoch: 30 (of 100)\n",
      "Epoch: 31 (of 100)\n",
      "Epoch: 32 (of 100)\n",
      "Epoch: 33 (of 100)\n",
      "Epoch: 34 (of 100)\n",
      "Epoch: 35 (of 100)\n",
      "Epoch: 36 (of 100)\n",
      "Epoch: 37 (of 100)\n",
      "Epoch: 38 (of 100)\n",
      "Epoch: 39 (of 100)\n",
      "Epoch: 40 (of 100)\n",
      "Epoch: 41 (of 100)\n",
      "Epoch: 42 (of 100)\n",
      "Epoch: 43 (of 100)\n",
      "Epoch: 44 (of 100)\n",
      "Epoch: 45 (of 100)\n",
      "Epoch: 46 (of 100)\n",
      "Epoch: 47 (of 100)\n",
      "Epoch: 48 (of 100)\n",
      "Epoch: 49 (of 100)\n",
      "Epoch: 50 (of 100)\n",
      "Epoch: 51 (of 100)\n",
      "Epoch: 52 (of 100)\n",
      "Epoch: 53 (of 100)\n",
      "Epoch: 54 (of 100)\n",
      "Epoch: 55 (of 100)\n",
      "Epoch: 56 (of 100)\n",
      "Epoch: 57 (of 100)\n",
      "Epoch: 58 (of 100)\n",
      "Epoch: 59 (of 100)\n",
      "Epoch: 60 (of 100)\n",
      "Epoch: 61 (of 100)\n",
      "Epoch: 62 (of 100)\n",
      "Epoch: 63 (of 100)\n",
      "Epoch: 64 (of 100)\n",
      "Epoch: 65 (of 100)\n",
      "Epoch: 66 (of 100)\n",
      "Epoch: 67 (of 100)\n",
      "Epoch: 68 (of 100)\n",
      "Epoch: 69 (of 100)\n",
      "Epoch: 70 (of 100)\n",
      "Epoch: 71 (of 100)\n",
      "Epoch: 72 (of 100)\n",
      "Epoch: 73 (of 100)\n",
      "Epoch: 74 (of 100)\n",
      "Epoch: 75 (of 100)\n",
      "Epoch: 76 (of 100)\n",
      "Epoch: 77 (of 100)\n",
      "Epoch: 78 (of 100)\n",
      "Epoch: 79 (of 100)\n",
      "Epoch: 80 (of 100)\n",
      "Epoch: 81 (of 100)\n",
      "Epoch: 82 (of 100)\n",
      "Epoch: 83 (of 100)\n",
      "Epoch: 84 (of 100)\n",
      "Epoch: 85 (of 100)\n",
      "Epoch: 86 (of 100)\n",
      "Epoch: 87 (of 100)\n",
      "Epoch: 88 (of 100)\n",
      "Epoch: 89 (of 100)\n",
      "Epoch: 90 (of 100)\n",
      "Epoch: 91 (of 100)\n",
      "Epoch: 92 (of 100)\n",
      "Epoch: 93 (of 100)\n",
      "Epoch: 94 (of 100)\n",
      "Epoch: 95 (of 100)\n",
      "Epoch: 96 (of 100)\n",
      "Epoch: 97 (of 100)\n",
      "Epoch: 98 (of 100)\n",
      "Epoch: 99 (of 100)\n",
      "Epoch: 100 (of 100)\n",
      "Network trained successfully\n"
     ]
    }
   ],
   "source": [
    "# train specifically for our basefonts\n",
    "basefontimgs = []\n",
    "basefontlabels = []\n",
    "for i in range(10):\n",
    "    with Image.open(\"training_images/\" + str(i) + \".png\") as im:\n",
    "        basefontimgs.append(np.array(im))\n",
    "    basefontlabels.append([0.01 if x != i else 0.09 for x in range(10)])\n",
    "neural_network.train(basefontimgs, basefontlabels, epochs = 100)"
   ]
  },
  {
   "cell_type": "code",
   "execution_count": 130,
   "metadata": {},
   "outputs": [
    {
     "data": {
      "text/plain": [
       "[[0.09, 0.01, 0.01, 0.01, 0.01, 0.01, 0.01, 0.01, 0.01, 0.01],\n",
       " [0.01, 0.09, 0.01, 0.01, 0.01, 0.01, 0.01, 0.01, 0.01, 0.01],\n",
       " [0.01, 0.01, 0.09, 0.01, 0.01, 0.01, 0.01, 0.01, 0.01, 0.01],\n",
       " [0.01, 0.01, 0.01, 0.09, 0.01, 0.01, 0.01, 0.01, 0.01, 0.01],\n",
       " [0.01, 0.01, 0.01, 0.01, 0.09, 0.01, 0.01, 0.01, 0.01, 0.01],\n",
       " [0.01, 0.01, 0.01, 0.01, 0.01, 0.09, 0.01, 0.01, 0.01, 0.01],\n",
       " [0.01, 0.01, 0.01, 0.01, 0.01, 0.01, 0.09, 0.01, 0.01, 0.01],\n",
       " [0.01, 0.01, 0.01, 0.01, 0.01, 0.01, 0.01, 0.09, 0.01, 0.01],\n",
       " [0.01, 0.01, 0.01, 0.01, 0.01, 0.01, 0.01, 0.01, 0.09, 0.01],\n",
       " [0.01, 0.01, 0.01, 0.01, 0.01, 0.01, 0.01, 0.01, 0.01, 0.09]]"
      ]
     },
     "execution_count": 130,
     "metadata": {},
     "output_type": "execute_result"
    }
   ],
   "source": [
    "basefontlabels"
   ]
  },
  {
   "cell_type": "code",
   "execution_count": 151,
   "metadata": {},
   "outputs": [
    {
     "name": "stderr",
     "output_type": "stream",
     "text": [
      "2 extra bytes in post.stringData array\n"
     ]
    },
    {
     "name": "stdout",
     "output_type": "stream",
     "text": [
      "uniE13D\n",
      "3\n",
      "uniE1D4\n",
      "6\n",
      "uniE43F\n",
      "8\n",
      "uniE46D\n",
      "2\n",
      "uniE66A\n",
      "7\n",
      "uniE808\n",
      "5\n",
      "uniEAA8\n",
      "4\n",
      "uniECDC\n",
      "9\n",
      "uniF56B\n",
      "6\n",
      "uniF581\n",
      "0\n"
     ]
    }
   ],
   "source": [
    "def uni_2_png_stream(txt: str, font: str, img_size=28):\n",
    "    img = Image.new('1', (img_size, img_size), 255) \n",
    "    draw = ImageDraw.Draw(img)\n",
    "    font = ImageFont.truetype(font, int(img_size * 0.7)) \n",
    "\n",
    "    txt = chr(txt)\n",
    "    x, y = draw.textsize(txt, font=font) \n",
    "    draw.text(((img_size - x) // 2, (img_size - y) // 2), txt, font=font, fill=0)\n",
    "    img.save(txt + '.png')\n",
    "    return img \n",
    "\n",
    "def predict(unicode, fontFile):\n",
    "    \n",
    "    image = uni_2_png_stream(int(unicode[3:], 16), fontFile)\n",
    "    matrix_form = np.array(image)\n",
    "    weighted_predictions = np.ndarray.flatten(neural_network.run(matrix_form))\n",
    "    most_possible = np.argmax(weighted_predictions)\n",
    "    return most_possible\n",
    "\n",
    "\n",
    "filename = 'basefonts.woff'  # 字体文件的路径信息\n",
    "f = TTFont(filename)\n",
    "for x in f.getGlyphNames()[1:-1]:\n",
    "    print(x)\n",
    "    print(predict(x, filename))\n",
    "    \n"
   ]
  },
  {
   "cell_type": "code",
   "execution_count": 152,
   "metadata": {},
   "outputs": [
    {
     "name": "stderr",
     "output_type": "stream",
     "text": [
      "2 extra bytes in post.stringData array\n"
     ]
    },
    {
     "data": {
      "text/plain": [
       "{'&#xe082': 6,\n",
       " '&#xe455': 5,\n",
       " '&#xe51b': 3,\n",
       " '&#xe945': 7,\n",
       " '&#xed1c': 3,\n",
       " '&#xedef': 5,\n",
       " '&#xf23b': 4,\n",
       " '&#xf365': 5,\n",
       " '&#xf7a0': 3,\n",
       " '&#xf7d8': 3}"
      ]
     },
     "execution_count": 152,
     "metadata": {},
     "output_type": "execute_result"
    }
   ],
   "source": [
    "# Map contours to numbers\n",
    "baseFonts = TTFont('basefonts.woff')\n",
    "currentFonts = TTFont('fonts.woff')\n",
    "hexToInt = {}\n",
    "\n",
    "for j in currentFonts.getGlyphNames()[1:-1]:\n",
    "    hexToInt[uniToHex(j)] = predict(j, 'fonts.woff')\n",
    "\n",
    "hexToInt"
   ]
  },
  {
   "cell_type": "code",
   "execution_count": null,
   "metadata": {},
   "outputs": [],
   "source": [
    "unitLookup = {'百': 100, '千': 1000, '万': 10000, '亿': 1*10**8}\n",
    "\n",
    "#converts the weird character to a float\n",
    "def convertToFloat(string):\n",
    "    spCharLst = string.split(';')\n",
    "    result = ''\n",
    "    for i in spCharLst:\n",
    "        if len(i) > 7: #has a dot in front\n",
    "            result += '.' + str(hexToInt[i[1:]])\n",
    "        elif len(i) == 7: #in case of bad parsing\n",
    "            result += str(hexToInt[i])\n",
    "    return float(result)\n",
    "\n",
    "#helper function for converting the entire block to a single int\n",
    "def convertDictToInt(dictionary):\n",
    "    return int(convertToFloat(dictionary['num']) * unitLookup[dictionary['unit']])\n"
   ]
  },
  {
   "cell_type": "code",
   "execution_count": null,
   "metadata": {},
   "outputs": [],
   "source": [
    "df['boxSplitUnit'] = df['boxSplitUnit'].apply(convertDictToInt)\n",
    "df['splitBoxSplitUnit'] = df['splitBoxSplitUnit'].apply(convertDictToInt)\n",
    "df['movieInfo'] = df['movieInfo'].apply(lambda x : x['movieName'])\n",
    "df"
   ]
  },
  {
   "cell_type": "code",
   "execution_count": null,
   "metadata": {},
   "outputs": [],
   "source": [
    "#大盘\n",
    "body0['movieList']['nationBoxInfo']"
   ]
  },
  {
   "cell_type": "code",
   "execution_count": null,
   "metadata": {},
   "outputs": [],
   "source": []
  }
 ],
 "metadata": {
  "kernelspec": {
   "display_name": "Python 3",
   "language": "python",
   "name": "python3"
  },
  "language_info": {
   "codemirror_mode": {
    "name": "ipython",
    "version": 3
   },
   "file_extension": ".py",
   "mimetype": "text/x-python",
   "name": "python",
   "nbconvert_exporter": "python",
   "pygments_lexer": "ipython3",
   "version": "3.7.3"
  }
 },
 "nbformat": 4,
 "nbformat_minor": 2
}
