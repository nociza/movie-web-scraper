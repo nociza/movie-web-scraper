{
 "cells": [
  {
   "cell_type": "code",
   "execution_count": 1,
   "metadata": {},
   "outputs": [
    {
     "name": "stderr",
     "output_type": "stream",
     "text": [
      "/Users/azicon/anaconda3/lib/python3.7/site-packages/requests/__init__.py:91: RequestsDependencyWarning: urllib3 (1.26.8) or chardet (3.0.4) doesn't match a supported version!\n",
      "  RequestsDependencyWarning)\n"
     ]
    }
   ],
   "source": [
    "import re\n",
    "import requests\n",
    "from bs4 import BeautifulSoup as bs\n",
    "from selenium import webdriver\n",
    "from selenium.webdriver.chrome.options import Options\n",
    "from selenium.webdriver.common.desired_capabilities import DesiredCapabilities\n",
    "from selenium.webdriver.support.ui import WebDriverWait\n",
    "from selenium.webdriver.support import expected_conditions as EC\n",
    "from selenium.webdriver.common.by import By\n",
    "import simplejson as json"
   ]
  },
  {
   "cell_type": "code",
   "execution_count": 2,
   "metadata": {},
   "outputs": [
    {
     "data": {
      "text/plain": [
       "<!DOCTYPE html>\n",
       "\n",
       "<html class=\"mobile\" lang=\"en\">\n",
       "<head>\n",
       "<meta charset=\"utf-8\"/>\n",
       "<meta content=\"initial-scale=1, width=device-width, maximum-scale=1, user-scalable=no\" name=\"viewport\"/>\n",
       "<link href=\"https://s3plus.meituan.net\" rel=\"dns-prefetch\"/>\n",
       "<link href=\"https://p0.meituan.net\" rel=\"dns-prefetch\"/>\n",
       "<link href=\"https://s3plus.meituan.net/v1/mss_e2821d7f0cfe4ac1bf9202ecf9590e67/cdn-prod/file:d6a62569/common.css\" rel=\"stylesheet\"/>\n",
       "<style>\n",
       "              html, body{\n",
       "                  max-width: 430px;\n",
       "                  margin: 0 auto;\n",
       "              }\n",
       "              .m-page{\n",
       "                  display:flex;\n",
       "                  align-items:center;\n",
       "                  justify-content:center;\n",
       "                  flex-direction: column;\n",
       "                  min-height: 100vh;\n",
       "              }\n",
       "              .m-page .hint{\n",
       "                  background: url(https://s0.meituan.net/bs/file/?f=myfe/piaofang:img/news/comments-none-ccd31fb5.png) no-repeat center .4rem;\n",
       "                  background-size: 2rem;\n",
       "                  margin-top: 2rem;\n",
       "                  padding: .3rem 0;\n",
       "                  padding-top: 2.8rem;\n",
       "                  color: #666;\n",
       "                  text-align: center;\n",
       "                  font-size: .3rem;\n",
       "                  margin-bottom: .2rem;\n",
       "              }\n",
       "              .m-page .info{\n",
       "                margin-top: 2.8rem;\n",
       "              }\n",
       "              .m-page .info{\n",
       "                  padding-top: .08rem;\n",
       "                  color: #999;\n",
       "                  text-align: center;\n",
       "                  font-size: .28rem;\n",
       "              }\n",
       "              .m-page .btn{\n",
       "                display: none;\n",
       "                padding: .23rem .56rem;\n",
       "                border-radius: 2px;\n",
       "                background: #ef4238;\n",
       "                position: relative;\n",
       "                color: #fff;\n",
       "                text-decoration: none;\n",
       "                font-size: .3rem;\n",
       "              }\n",
       "              .error-msg{\n",
       "                    color: #999;\n",
       "                    font-size: .24rem;\n",
       "                    line-height: .32rem;\n",
       "                    margin: .36rem auto 0;\n",
       "                    padding:  0 .32rem;\n",
       "                    max-width: 5rem;\n",
       "                }\n",
       "    </style>\n",
       "<title>猫眼专业版</title>\n",
       "</head>\n",
       "<body>\n",
       "<div id=\"app\">\n",
       "<div class=\"m-page\">\n",
       "<p class=\"hint\">抱歉，您的访问请求过于频繁</p>\n",
       "<a class=\"btn\" href=\"https://piaofang.maoyan.com\" id=\"btn\">回到首页</a>\n",
       "<!-- <p class=\"info\">IP: 120.1.2.3</p> -->\n",
       "<div class=\"error-msg\">\n",
       "<div>错误信息：</div>\n",
       "<div id=\"IP\">userIp：</div>\n",
       "<div id=\"UA\">userAgent：</div>\n",
       "<div id=\"time\">时间：</div>\n",
       "</div>\n",
       "<div class=\"info\">\n",
       "<div class=\"info-item\">如有问题，请将页面截图并发送至v@maoyan.com</div>\n",
       "</div>\n",
       "</div>\n",
       "</div>\n",
       "<script src=\"https://m.maoyan.com/asgard/util/clientip.js\" type=\"text/javascript\"></script>\n",
       "<script>\n",
       "        var $ip = document.getElementById('IP');\n",
       "        var $us = document.getElementById('UA');\n",
       "        $ip.innerText += clientip;\n",
       "        $us.innerText += navigator.userAgent;\n",
       "        window.addEventListener(\"load\", function(event) {\n",
       "            var now = new Date().Format(\"yyyy-MM-dd hh:mm:ss\");\n",
       "            var $time = document.getElementById('time');\n",
       "            $time.innerHTML += now;\n",
       "            var rPro = /moviepro/i;\n",
       "            var isPro = rPro.test(window.navigator.userAgent);\n",
       "            if (!isPro) {\n",
       "                var $btn = document.getElementById('btn');\n",
       "                $btn.style.display = 'block';\n",
       "            }\n",
       "        });\n",
       "\n",
       "        Date.prototype.Format = function (fmt) {\n",
       "            var o = {\n",
       "            \"M+\": this.getMonth() + 1, //月份\n",
       "            \"d+\": this.getDate(), //日\n",
       "            \"h+\": this.getHours(), //小时\n",
       "            \"m+\": this.getMinutes(), //分\n",
       "            \"s+\": this.getSeconds(), //秒\n",
       "            \"q+\": Math.floor((this.getMonth() + 3) / 3), //季度\n",
       "            \"S\": this.getMilliseconds() //毫秒\n",
       "            };\n",
       "            if (/(y+)/.test(fmt)) fmt = fmt.replace(RegExp.$1, (this.getFullYear() + \"\").substr(4 - RegExp.$1.length));\n",
       "            for (var k in o)\n",
       "            if (new RegExp(\"(\" + k + \")\").test(fmt)) fmt = fmt.replace(RegExp.$1, (RegExp.$1.length == 1) ? (o[k]) : ((\"00\" + o[k]).substr((\"\" + o[k]).length)));\n",
       "            return fmt;\n",
       "        }\n",
       "    </script>\n",
       "</body>\n",
       "</html>"
      ]
     },
     "execution_count": 2,
     "metadata": {},
     "output_type": "execute_result"
    }
   ],
   "source": [
    "res = requests.get(\"https://piaofang.maoyan.com/dashboard/movie\")\n",
    "res.encoding = 'utf-8'\n",
    "soup = bs(res.text, 'html.parser')\n",
    "soup"
   ]
  },
  {
   "cell_type": "raw",
   "metadata": {},
   "source": [
    "The website checks for headless requests, we therefore have to use selenium. "
   ]
  },
  {
   "cell_type": "code",
   "execution_count": 3,
   "metadata": {},
   "outputs": [],
   "source": [
    "browserOptions = Options()\n",
    "#browserOptions.add_argument(\"--headless\")\n",
    "\n",
    "capa = DesiredCapabilities.CHROME\n",
    "capa[\"pageLoadStrategy\"] = \"none\"\n",
    "capa[\"goog:loggingPrefs\"] = {\"performance\": \"ALL\"}\n",
    "driver = webdriver.Chrome(desired_capabilities=capa)\n",
    "wait = WebDriverWait(driver, 20)"
   ]
  },
  {
   "cell_type": "code",
   "execution_count": 4,
   "metadata": {},
   "outputs": [
    {
     "name": "stdout",
     "output_type": "stream",
     "text": [
      "Caught https://piaofang.maoyan.com/dashboard-ajax/movie?orderType=0&uuid=f3c810db-1b84-494c-83d8-472bc372c6e2&timeStamp=1644625811443&User-Agent=TW96aWxsYS81LjAgKE1hY2ludG9zaDsgSW50ZWwgTWFjIE9TIFggMTBfMTVfNykgQXBwbGVXZWJLaXQvNTM3LjM2IChLSFRNTCwgbGlrZSBHZWNrbykgQ2hyb21lLzk3LjAuNDY5Mi45OSBTYWZhcmkvNTM3LjM2&index=58&channelId=40009&sVersion=2&signKey=1957b82ef0a6d728fe96876995fdf113\n"
     ]
    }
   ],
   "source": [
    "#create snapshot of the entire page to prevent it from constantly changing\n",
    "driver.get(\"https://piaofang.maoyan.com/dashboard/movie\")\n",
    "test = None\n",
    "while not test:\n",
    "    try:\n",
    "        test = wait.until(EC.presence_of_element_located((By.CLASS_NAME, 'moviename-td')))\n",
    "    except:\n",
    "        driver.refresh();\n",
    "        \n",
    "logs_raw = driver.get_log(\"performance\")\n",
    "logs = [json.loads(lr[\"message\"])[\"message\"] for lr in logs_raw]\n",
    "\n",
    "def log_filter(log_):\n",
    "    return (\n",
    "        # is an actual response\n",
    "        log_[\"method\"] == \"Network.responseReceived\"\n",
    "        # and json\n",
    "        and \"json\" in log_[\"params\"][\"response\"][\"mimeType\"]\n",
    "    )\n",
    "\n",
    "responses = []\n",
    "\n",
    "for log in filter(log_filter, logs):\n",
    "    request_id = log[\"params\"][\"requestId\"]\n",
    "    resp_url = log[\"params\"][\"response\"][\"url\"]\n",
    "    print(f\"Caught {resp_url}\")\n",
    "    response = driver.execute_cdp_cmd(\"Network.getResponseBody\", {\"requestId\": request_id})\n",
    "    responses.append(response)\n",
    "    \n",
    "\n",
    "    "
   ]
  },
  {
   "cell_type": "code",
   "execution_count": 5,
   "metadata": {},
   "outputs": [
    {
     "data": {
      "text/plain": [
       "'//s3plus.meituan.net/v1/mss_73a511b8f91f43d0bdae92584ea6330b/font/2ab02453.woff'"
      ]
     },
     "execution_count": 5,
     "metadata": {},
     "output_type": "execute_result"
    }
   ],
   "source": [
    "body0 = json.loads(responses[0]['body'])\n",
    "movieList = body0['movieList']['list']\n",
    "date = body0['calendar']['today']\n",
    "font_url = body0['fontStyle'].split('\"')[-2]\n",
    "font_url"
   ]
  },
  {
   "cell_type": "code",
   "execution_count": null,
   "metadata": {},
   "outputs": [],
   "source": [
    "# Get reference fonts from the file tree\n",
    "from fontTools.ttLib import TTFont\n",
    "headers = {\n",
    "            \"User-Agent\": \"Mozilla/5.0 (Macintosh; Intel Mac OS X 10_13_4) AppleWebKit/537.36 (KHTML, like Gecko) \"\n",
    "              \"Chrome/66.0.3359.139 Safari/537.36 \"\n",
    "    }\n",
    "\n",
    "woff_url = 'http:' + font_url\n",
    "response_woff = requests.get(woff_url, headers=headers).content\n",
    "\n",
    "print(\"Woff retrieval succuessful: \" + str(len(response_woff) > 0))\n",
    "\n",
    "with open('fonts.woff', 'wb') as f:\n",
    "    f.write(response_woff)\n",
    "\n",
    "# Already saved, DO NOT RUN THE FOLLOWING \n",
    "#with open('basefonts.woff', 'wb') as f:\n",
    "    #f.write(response_woff)\n",
    "    \n",
    "#font1 = TTFont('basefonts.woff')\n",
    "#font1.saveXML('basefonts.xml')"
   ]
  },
  {
   "cell_type": "code",
   "execution_count": 7,
   "metadata": {},
   "outputs": [],
   "source": [
    "import pandas as pd\n",
    "df = pd.DataFrame.from_records(movieList)"
   ]
  },
  {
   "cell_type": "code",
   "execution_count": 14,
   "metadata": {},
   "outputs": [
    {
     "data": {
      "text/plain": [
       "{'num': '&#xe13d;&#xe66a;&#xf581;.&#xe1d4;&#xf581;', 'unit': '万'}"
      ]
     },
     "execution_count": 14,
     "metadata": {},
     "output_type": "execute_result"
    }
   ],
   "source": [
    "df['boxSplitUnit'][4]"
   ]
  },
  {
   "cell_type": "code",
   "execution_count": 16,
   "metadata": {},
   "outputs": [],
   "source": [
    "# Create Bijection between numbers and unicode \n",
    "unicodeToInt = {\"uniF581\": 0, \"uniF56B\": 1, \"uniE13D\": 2, \"uniE13D\": 3, \"uniEAA8\": 4, \n",
    "                \"uniE808\": 5, \"uniE1D4\": 6, \"uniE66A\": 7, \"uniE43F\": 8, \"uniECDC\": 9}\n",
    "\n",
    "def hexToUnicode(hexa):\n",
    "    return 'uni' + hexa[3:].upper()\n",
    "\n"
   ]
  },
  {
   "cell_type": "code",
   "execution_count": 19,
   "metadata": {},
   "outputs": [
    {
     "name": "stderr",
     "output_type": "stream",
     "text": [
      "2 extra bytes in post.stringData array\n"
     ]
    },
    {
     "data": {
      "text/plain": [
       "{'<fontTools.ttLib.tables._g_l_y_f.Glyph object at 0x7fa76d3a8f28>': 0,\n",
       " '<fontTools.ttLib.tables._g_l_y_f.Glyph object at 0x7fa76d3a8dd8>': 1,\n",
       " '<fontTools.ttLib.tables._g_l_y_f.Glyph object at 0x7fa76d3a8f98>': 3,\n",
       " '<fontTools.ttLib.tables._g_l_y_f.Glyph object at 0x7fa76d3a8470>': 4,\n",
       " '<fontTools.ttLib.tables._g_l_y_f.Glyph object at 0x7fa76d3a87f0>': 5,\n",
       " '<fontTools.ttLib.tables._g_l_y_f.Glyph object at 0x7fa76d3a8a20>': 6,\n",
       " '<fontTools.ttLib.tables._g_l_y_f.Glyph object at 0x7fa76d3a86a0>': 7,\n",
       " '<fontTools.ttLib.tables._g_l_y_f.Glyph object at 0x7fa76d3a8fd0>': 8,\n",
       " '<fontTools.ttLib.tables._g_l_y_f.Glyph object at 0x7fa76d3a85c0>': 9}"
      ]
     },
     "execution_count": 19,
     "metadata": {},
     "output_type": "execute_result"
    }
   ],
   "source": [
    "# Map contours to numbers\n",
    "baseFonts = TTFont('basefonts.woff')\n",
    "currentFonts = TTFont('fonts.woff')\n",
    "glyphToInt = {}\n",
    "\n",
    "for i in unicodeToInt:\n",
    "    baseGlyph = baseFonts['glyf'][i]\n",
    "    glyphToInt[baseGlyph] = unicodeToInt[i]\n",
    "\n",
    "glyphToInt"
   ]
  },
  {
   "cell_type": "code",
   "execution_count": 10,
   "metadata": {},
   "outputs": [],
   "source": [
    "integerLookup = {'&#xe984': 1, '&#xf43b': 2, '&#xf5fe': 3, '&#xea24': 4, '&#xef0d': 5, \n",
    "                 '&#xea11': 6, '&#xf3df': 7, '&#xec39': 8, '&#xea1b': 9, '&#xeffa': 0}\n",
    "\n",
    "unitLookup = {'百': 100, '千': 1000, '万': 10000, '亿': 1*10**8}\n",
    "\n",
    "#converts the weird character to a float\n",
    "def convertToFloat(string):\n",
    "    spCharLst = string.split(';')\n",
    "    result = ''\n",
    "    for i in spCharLst:\n",
    "        if len(i) > 7: #has a dot in front\n",
    "            result += '.' + str(integerLookup[i[1:]])\n",
    "        elif len(i) == 7: #in case of bad parsing\n",
    "            result += str(integerLookup[i])\n",
    "    return float(result)\n",
    "\n",
    "#helper function for converting the entire block to a single int\n",
    "def convertDictToInt(dictionary):\n",
    "    return int(convertToFloat(dictionary['num']) * unitLookup[dictionary['unit']])\n"
   ]
  },
  {
   "cell_type": "code",
   "execution_count": 11,
   "metadata": {},
   "outputs": [
    {
     "ename": "KeyError",
     "evalue": "'&#xf56b'",
     "output_type": "error",
     "traceback": [
      "\u001b[0;31m---------------------------------------------------------------------------\u001b[0m",
      "\u001b[0;31mKeyError\u001b[0m                                  Traceback (most recent call last)",
      "\u001b[0;32m<ipython-input-11-d8e9c26d4d39>\u001b[0m in \u001b[0;36m<module>\u001b[0;34m\u001b[0m\n\u001b[0;32m----> 1\u001b[0;31m \u001b[0mconvertDictToInt\u001b[0m\u001b[0;34m(\u001b[0m\u001b[0mdf\u001b[0m\u001b[0;34m[\u001b[0m\u001b[0;34m'boxSplitUnit'\u001b[0m\u001b[0;34m]\u001b[0m\u001b[0;34m[\u001b[0m\u001b[0;36m0\u001b[0m\u001b[0;34m]\u001b[0m\u001b[0;34m)\u001b[0m \u001b[0;31m#裂开，不是bijection\u001b[0m\u001b[0;34m\u001b[0m\u001b[0;34m\u001b[0m\u001b[0m\n\u001b[0m",
      "\u001b[0;32m<ipython-input-10-b7a8b37a5f4c>\u001b[0m in \u001b[0;36mconvertDictToInt\u001b[0;34m(dictionary)\u001b[0m\n\u001b[1;32m     17\u001b[0m \u001b[0;31m#helper function for converting the entire block to a single int\u001b[0m\u001b[0;34m\u001b[0m\u001b[0;34m\u001b[0m\u001b[0;34m\u001b[0m\u001b[0m\n\u001b[1;32m     18\u001b[0m \u001b[0;32mdef\u001b[0m \u001b[0mconvertDictToInt\u001b[0m\u001b[0;34m(\u001b[0m\u001b[0mdictionary\u001b[0m\u001b[0;34m)\u001b[0m\u001b[0;34m:\u001b[0m\u001b[0;34m\u001b[0m\u001b[0;34m\u001b[0m\u001b[0m\n\u001b[0;32m---> 19\u001b[0;31m     \u001b[0;32mreturn\u001b[0m \u001b[0mint\u001b[0m\u001b[0;34m(\u001b[0m\u001b[0mconvertToFloat\u001b[0m\u001b[0;34m(\u001b[0m\u001b[0mdictionary\u001b[0m\u001b[0;34m[\u001b[0m\u001b[0;34m'num'\u001b[0m\u001b[0;34m]\u001b[0m\u001b[0;34m)\u001b[0m \u001b[0;34m*\u001b[0m \u001b[0munitLookup\u001b[0m\u001b[0;34m[\u001b[0m\u001b[0mdictionary\u001b[0m\u001b[0;34m[\u001b[0m\u001b[0;34m'unit'\u001b[0m\u001b[0;34m]\u001b[0m\u001b[0;34m]\u001b[0m\u001b[0;34m)\u001b[0m\u001b[0;34m\u001b[0m\u001b[0;34m\u001b[0m\u001b[0m\n\u001b[0m",
      "\u001b[0;32m<ipython-input-10-b7a8b37a5f4c>\u001b[0m in \u001b[0;36mconvertToFloat\u001b[0;34m(string)\u001b[0m\n\u001b[1;32m     12\u001b[0m             \u001b[0mresult\u001b[0m \u001b[0;34m+=\u001b[0m \u001b[0;34m'.'\u001b[0m \u001b[0;34m+\u001b[0m \u001b[0mstr\u001b[0m\u001b[0;34m(\u001b[0m\u001b[0mintegerLookup\u001b[0m\u001b[0;34m[\u001b[0m\u001b[0mi\u001b[0m\u001b[0;34m[\u001b[0m\u001b[0;36m1\u001b[0m\u001b[0;34m:\u001b[0m\u001b[0;34m]\u001b[0m\u001b[0;34m]\u001b[0m\u001b[0;34m)\u001b[0m\u001b[0;34m\u001b[0m\u001b[0;34m\u001b[0m\u001b[0m\n\u001b[1;32m     13\u001b[0m         \u001b[0;32melif\u001b[0m \u001b[0mlen\u001b[0m\u001b[0;34m(\u001b[0m\u001b[0mi\u001b[0m\u001b[0;34m)\u001b[0m \u001b[0;34m==\u001b[0m \u001b[0;36m7\u001b[0m\u001b[0;34m:\u001b[0m \u001b[0;31m#in case of bad parsing\u001b[0m\u001b[0;34m\u001b[0m\u001b[0;34m\u001b[0m\u001b[0m\n\u001b[0;32m---> 14\u001b[0;31m             \u001b[0mresult\u001b[0m \u001b[0;34m+=\u001b[0m \u001b[0mstr\u001b[0m\u001b[0;34m(\u001b[0m\u001b[0mintegerLookup\u001b[0m\u001b[0;34m[\u001b[0m\u001b[0mi\u001b[0m\u001b[0;34m]\u001b[0m\u001b[0;34m)\u001b[0m\u001b[0;34m\u001b[0m\u001b[0;34m\u001b[0m\u001b[0m\n\u001b[0m\u001b[1;32m     15\u001b[0m     \u001b[0;32mreturn\u001b[0m \u001b[0mfloat\u001b[0m\u001b[0;34m(\u001b[0m\u001b[0mresult\u001b[0m\u001b[0;34m)\u001b[0m\u001b[0;34m\u001b[0m\u001b[0;34m\u001b[0m\u001b[0m\n\u001b[1;32m     16\u001b[0m \u001b[0;34m\u001b[0m\u001b[0m\n",
      "\u001b[0;31mKeyError\u001b[0m: '&#xf56b'"
     ]
    }
   ],
   "source": [
    "convertDictToInt(df['boxSplitUnit'][0]) #裂开，不是bijection"
   ]
  },
  {
   "cell_type": "code",
   "execution_count": null,
   "metadata": {},
   "outputs": [],
   "source": [
    "df['boxSplitUnit'] = df['boxSplitUnit'].apply(convertDictToInt)\n",
    "df['splitBoxSplitUnit'] = df['splitBoxSplitUnit'].apply(convertDictToInt)\n",
    "df['movieInfo'] = df['movieInfo'].apply(lambda x : x['movieName'])\n",
    "df"
   ]
  },
  {
   "cell_type": "code",
   "execution_count": null,
   "metadata": {},
   "outputs": [],
   "source": [
    "#大盘\n",
    "body0['movieList']['nationBoxInfo']"
   ]
  },
  {
   "cell_type": "code",
   "execution_count": null,
   "metadata": {},
   "outputs": [],
   "source": []
  }
 ],
 "metadata": {
  "kernelspec": {
   "display_name": "Python 3",
   "language": "python",
   "name": "python3"
  },
  "language_info": {
   "codemirror_mode": {
    "name": "ipython",
    "version": 3
   },
   "file_extension": ".py",
   "mimetype": "text/x-python",
   "name": "python",
   "nbconvert_exporter": "python",
   "pygments_lexer": "ipython3",
   "version": "3.7.3"
  }
 },
 "nbformat": 4,
 "nbformat_minor": 2
}
